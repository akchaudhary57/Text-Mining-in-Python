{
 "cells": [
  {
   "cell_type": "markdown",
   "id": "df31a83a",
   "metadata": {},
   "source": [
    "## Handling text in python"
   ]
  },
  {
   "cell_type": "code",
   "execution_count": 1,
   "id": "73ce99f7",
   "metadata": {},
   "outputs": [],
   "source": [
    "text = \"From breaking news and entertainment to sports and politics, get the full story with all the live commentary.\""
   ]
  },
  {
   "cell_type": "code",
   "execution_count": 2,
   "id": "f1c4e6a8",
   "metadata": {},
   "outputs": [
    {
     "data": {
      "text/plain": [
       "109"
      ]
     },
     "execution_count": 2,
     "metadata": {},
     "output_type": "execute_result"
    }
   ],
   "source": [
    "len(text)"
   ]
  },
  {
   "cell_type": "code",
   "execution_count": 6,
   "id": "8d9a11f1",
   "metadata": {},
   "outputs": [],
   "source": [
    "text1 = text.split(' ')"
   ]
  },
  {
   "cell_type": "code",
   "execution_count": 7,
   "id": "19b6b9ba",
   "metadata": {},
   "outputs": [
    {
     "data": {
      "text/plain": [
       "18"
      ]
     },
     "execution_count": 7,
     "metadata": {},
     "output_type": "execute_result"
    }
   ],
   "source": [
    "len(text1)"
   ]
  },
  {
   "cell_type": "code",
   "execution_count": 8,
   "id": "ec693b69",
   "metadata": {},
   "outputs": [
    {
     "data": {
      "text/plain": [
       "['From',\n",
       " 'breaking',\n",
       " 'news',\n",
       " 'and',\n",
       " 'entertainment',\n",
       " 'to',\n",
       " 'sports',\n",
       " 'and',\n",
       " 'politics,',\n",
       " 'get',\n",
       " 'the',\n",
       " 'full',\n",
       " 'story',\n",
       " 'with',\n",
       " 'all',\n",
       " 'the',\n",
       " 'live',\n",
       " 'commentary.']"
      ]
     },
     "execution_count": 8,
     "metadata": {},
     "output_type": "execute_result"
    }
   ],
   "source": [
    "text1"
   ]
  },
  {
   "cell_type": "markdown",
   "id": "08ba5f6d",
   "metadata": {},
   "source": [
    "Long words: Words that are more than 3 letter long"
   ]
  },
  {
   "cell_type": "code",
   "execution_count": 9,
   "id": "610a6776",
   "metadata": {},
   "outputs": [
    {
     "data": {
      "text/plain": [
       "['From',\n",
       " 'breaking',\n",
       " 'news',\n",
       " 'entertainment',\n",
       " 'sports',\n",
       " 'politics,',\n",
       " 'full',\n",
       " 'story',\n",
       " 'with',\n",
       " 'live',\n",
       " 'commentary.']"
      ]
     },
     "execution_count": 9,
     "metadata": {},
     "output_type": "execute_result"
    }
   ],
   "source": [
    "[w for w in text1 if len(w)>3]"
   ]
  },
  {
   "cell_type": "markdown",
   "id": "434236ac",
   "metadata": {},
   "source": [
    "Capitalized words"
   ]
  },
  {
   "cell_type": "code",
   "execution_count": 10,
   "id": "d1b994db",
   "metadata": {},
   "outputs": [
    {
     "data": {
      "text/plain": [
       "['From']"
      ]
     },
     "execution_count": 10,
     "metadata": {},
     "output_type": "execute_result"
    }
   ],
   "source": [
    "[w for w in text1 if w.istitle()]"
   ]
  },
  {
   "cell_type": "markdown",
   "id": "9ef83a4e",
   "metadata": {},
   "source": [
    "Words that end with s"
   ]
  },
  {
   "cell_type": "code",
   "execution_count": 12,
   "id": "63f889f7",
   "metadata": {},
   "outputs": [
    {
     "data": {
      "text/plain": [
       "['news', 'sports']"
      ]
     },
     "execution_count": 12,
     "metadata": {},
     "output_type": "execute_result"
    }
   ],
   "source": [
    "[w for w in text1 if w.endswith('s')]"
   ]
  },
  {
   "cell_type": "markdown",
   "id": "20c90992",
   "metadata": {},
   "source": [
    "Finding unique words: using set()"
   ]
  },
  {
   "cell_type": "code",
   "execution_count": 16,
   "id": "73d8ed0a",
   "metadata": {},
   "outputs": [
    {
     "data": {
      "text/plain": [
       "{'To', 'be', 'not', 'or', 'to'}"
      ]
     },
     "execution_count": 16,
     "metadata": {},
     "output_type": "execute_result"
    }
   ],
   "source": [
    "text3 = \"To be or not to be\"\n",
    "text4 = text3.split(' ')\n",
    "len(text4)\n",
    "set(text4)"
   ]
  },
  {
   "cell_type": "code",
   "execution_count": 18,
   "id": "4189925d",
   "metadata": {},
   "outputs": [
    {
     "data": {
      "text/plain": [
       "{'be', 'not', 'or', 'to'}"
      ]
     },
     "execution_count": 18,
     "metadata": {},
     "output_type": "execute_result"
    }
   ],
   "source": [
    "set([w.lower() for w in text4])"
   ]
  },
  {
   "cell_type": "code",
   "execution_count": 20,
   "id": "709c74ba",
   "metadata": {},
   "outputs": [
    {
     "data": {
      "text/plain": [
       "['not']"
      ]
     },
     "execution_count": 20,
     "metadata": {},
     "output_type": "execute_result"
    }
   ],
   "source": [
    "[w for w in text4 if w.startswith('n')]"
   ]
  },
  {
   "cell_type": "code",
   "execution_count": 22,
   "id": "4bf44055",
   "metadata": {},
   "outputs": [
    {
     "data": {
      "text/plain": [
       "['kathm', 'du']"
      ]
     },
     "execution_count": 22,
     "metadata": {},
     "output_type": "execute_result"
    }
   ],
   "source": [
    "text5 = 'kathmandu'\n",
    "text6 = text5.split('an')\n",
    "text6"
   ]
  },
  {
   "cell_type": "code",
   "execution_count": 23,
   "id": "c84297d4",
   "metadata": {},
   "outputs": [
    {
     "data": {
      "text/plain": [
       "'kathmandu'"
      ]
     },
     "execution_count": 23,
     "metadata": {},
     "output_type": "execute_result"
    }
   ],
   "source": [
    "'an'.join(text6)"
   ]
  },
  {
   "cell_type": "markdown",
   "id": "39865d91",
   "metadata": {},
   "source": [
    "Find how many character in a string"
   ]
  },
  {
   "cell_type": "code",
   "execution_count": 24,
   "id": "7359db64",
   "metadata": {},
   "outputs": [
    {
     "data": {
      "text/plain": [
       "['k', 'a', 't', 'h', 'm', 'a', 'n', 'd', 'u']"
      ]
     },
     "execution_count": 24,
     "metadata": {},
     "output_type": "execute_result"
    }
   ],
   "source": [
    "list(text5)\n",
    "[w for w in text5]"
   ]
  },
  {
   "cell_type": "markdown",
   "id": "9bab2a43",
   "metadata": {},
   "source": [
    "**Cleaning text**"
   ]
  },
  {
   "cell_type": "code",
   "execution_count": 25,
   "id": "6de2cc60",
   "metadata": {},
   "outputs": [],
   "source": [
    "text8 = ' A quick brown fox jumped over the lazy dog. '"
   ]
  },
  {
   "cell_type": "code",
   "execution_count": 26,
   "id": "e18fd0e5",
   "metadata": {},
   "outputs": [
    {
     "data": {
      "text/plain": [
       "['', 'A', 'quick', 'brown', 'fox', 'jumped', 'over', 'the', 'lazy', 'dog', '']"
      ]
     },
     "execution_count": 26,
     "metadata": {},
     "output_type": "execute_result"
    }
   ],
   "source": [
    "text8.split(' ')"
   ]
  },
  {
   "cell_type": "code",
   "execution_count": 28,
   "id": "0b4298da",
   "metadata": {},
   "outputs": [
    {
     "data": {
      "text/plain": [
       "'A quick brown fox jumped over the lazy dog'"
      ]
     },
     "execution_count": 28,
     "metadata": {},
     "output_type": "execute_result"
    }
   ],
   "source": [
    "text9 = text8.strip()\n",
    "text9"
   ]
  },
  {
   "cell_type": "code",
   "execution_count": 29,
   "id": "3b2b136d",
   "metadata": {},
   "outputs": [
    {
     "data": {
      "text/plain": [
       "['A', 'quick', 'brown', 'fox', 'jumped', 'over', 'the', 'lazy', 'dog']"
      ]
     },
     "execution_count": 29,
     "metadata": {},
     "output_type": "execute_result"
    }
   ],
   "source": [
    "text9.split(' ')"
   ]
  },
  {
   "cell_type": "markdown",
   "id": "0f5dfb83",
   "metadata": {},
   "source": [
    "**Changing text**"
   ]
  },
  {
   "cell_type": "code",
   "execution_count": 30,
   "id": "16bc7113",
   "metadata": {},
   "outputs": [
    {
     "data": {
      "text/plain": [
       "10"
      ]
     },
     "execution_count": 30,
     "metadata": {},
     "output_type": "execute_result"
    }
   ],
   "source": [
    "text9.find('o')"
   ]
  },
  {
   "cell_type": "code",
   "execution_count": 31,
   "id": "63229931",
   "metadata": {},
   "outputs": [
    {
     "data": {
      "text/plain": [
       "'A quick brOwn fOx jumped Over the lazy dOg'"
      ]
     },
     "execution_count": 31,
     "metadata": {},
     "output_type": "execute_result"
    }
   ],
   "source": [
    "text9.replace('o','O')"
   ]
  },
  {
   "cell_type": "markdown",
   "id": "dccbccb5",
   "metadata": {},
   "source": [
    "**Processing free-text**"
   ]
  },
  {
   "cell_type": "code",
   "execution_count": 40,
   "id": "7088dae2",
   "metadata": {},
   "outputs": [
    {
     "data": {
      "text/plain": [
       "['\"Ethics',\n",
       " 'are',\n",
       " 'built',\n",
       " 'right',\n",
       " 'into',\n",
       " 'the',\n",
       " 'ideals',\n",
       " 'and',\n",
       " 'objectives',\n",
       " 'of',\n",
       " 'the',\n",
       " 'United',\n",
       " 'Nations\"',\n",
       " '#UNSG',\n",
       " '@',\n",
       " 'NY',\n",
       " 'Society',\n",
       " 'for',\n",
       " 'Ethical',\n",
       " 'Culture',\n",
       " 'bit.ly/2guVelr']"
      ]
     },
     "execution_count": 40,
     "metadata": {},
     "output_type": "execute_result"
    }
   ],
   "source": [
    "text5 = '\"Ethics are built right into the ideals and objectives of the United Nations\" \\\n",
    "#UNSG @ NY Society for Ethical Culture bit.ly/2guVelr'\n",
    "text6 = text5.split(' ')\n",
    "\n",
    "text6"
   ]
  },
  {
   "cell_type": "markdown",
   "id": "8cd11f7c",
   "metadata": {},
   "source": [
    "Finding hastags:"
   ]
  },
  {
   "cell_type": "code",
   "execution_count": 34,
   "id": "c665f332",
   "metadata": {},
   "outputs": [
    {
     "data": {
      "text/plain": [
       "['#UNSG']"
      ]
     },
     "execution_count": 34,
     "metadata": {},
     "output_type": "execute_result"
    }
   ],
   "source": [
    "[w for w in text6 if w.startswith('#')]"
   ]
  },
  {
   "cell_type": "markdown",
   "id": "fbf2c540",
   "metadata": {},
   "source": [
    "Finding callouts:"
   ]
  },
  {
   "cell_type": "code",
   "execution_count": 35,
   "id": "0003b2e0",
   "metadata": {},
   "outputs": [
    {
     "data": {
      "text/plain": [
       "['@']"
      ]
     },
     "execution_count": 35,
     "metadata": {},
     "output_type": "execute_result"
    }
   ],
   "source": [
    "[w for w in text6 if w.startswith('@')]"
   ]
  },
  {
   "cell_type": "code",
   "execution_count": 52,
   "id": "679b90e7",
   "metadata": {},
   "outputs": [],
   "source": [
    "text7 = '@UN @UN_Women \"Ethics are built right into the ideals and objectives of the United Nations\" \\\n",
    "#UNSG @ NY Society for Ethical Culture bit.ly/2guVelr'\n",
    "text8 = text7.split(' ')"
   ]
  },
  {
   "cell_type": "markdown",
   "id": "7c2608af",
   "metadata": {},
   "source": [
    "<br>\n",
    "\n",
    "We can use regular expressions to help us with more complex parsing. \n",
    "\n",
    "For example `'@[A-Za-z0-9_]+'` will return all words that: \n",
    "* start with `'@'` and are followed by at least one: \n",
    "* capital letter (`'A-Z'`)\n",
    "* lowercase letter (`'a-z'`) \n",
    "* number (`'0-9'`)\n",
    "* or underscore (`'_'`)"
   ]
  },
  {
   "cell_type": "code",
   "execution_count": 55,
   "id": "f14f5887",
   "metadata": {},
   "outputs": [
    {
     "data": {
      "text/plain": [
       "['@UN', '@UN_Women']"
      ]
     },
     "execution_count": 55,
     "metadata": {},
     "output_type": "execute_result"
    }
   ],
   "source": [
    "import re # import re - a module that provides support for regular expressions\n",
    "\n",
    "[w for w in text8 if re.search('@[A-Za-z0-9]+', w)]"
   ]
  }
 ],
 "metadata": {
  "kernelspec": {
   "display_name": "Python 3 (ipykernel)",
   "language": "python",
   "name": "python3"
  },
  "language_info": {
   "codemirror_mode": {
    "name": "ipython",
    "version": 3
   },
   "file_extension": ".py",
   "mimetype": "text/x-python",
   "name": "python",
   "nbconvert_exporter": "python",
   "pygments_lexer": "ipython3",
   "version": "3.7.4"
  }
 },
 "nbformat": 4,
 "nbformat_minor": 5
}
